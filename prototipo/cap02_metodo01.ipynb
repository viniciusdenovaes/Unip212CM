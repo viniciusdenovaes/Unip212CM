{
 "cells": [
  {
   "cell_type": "code",
   "execution_count": 19,
   "id": "76a25e6f",
   "metadata": {},
   "outputs": [],
   "source": [
    "import numpy as np\n",
    "import matplotlib.pyplot as plt\n",
    "import pandas as pd"
   ]
  },
  {
   "cell_type": "code",
   "execution_count": 6,
   "id": "9b3a3955",
   "metadata": {},
   "outputs": [],
   "source": [
    "def f(x):\n",
    "    return x**3 - 9*x + 3"
   ]
  },
  {
   "cell_type": "code",
   "execution_count": 7,
   "id": "f6c398c9",
   "metadata": {},
   "outputs": [
    {
     "data": {
      "text/plain": [
       "3"
      ]
     },
     "execution_count": 7,
     "metadata": {},
     "output_type": "execute_result"
    }
   ],
   "source": [
    "f(0)"
   ]
  },
  {
   "cell_type": "code",
   "execution_count": 8,
   "id": "acde7e72",
   "metadata": {},
   "outputs": [
    {
     "data": {
      "text/plain": [
       "-25"
      ]
     },
     "execution_count": 8,
     "metadata": {},
     "output_type": "execute_result"
    }
   ],
   "source": [
    "f(-4)"
   ]
  },
  {
   "cell_type": "code",
   "execution_count": 9,
   "id": "e42cbc51",
   "metadata": {},
   "outputs": [
    {
     "data": {
      "text/plain": [
       "3"
      ]
     },
     "execution_count": 9,
     "metadata": {},
     "output_type": "execute_result"
    }
   ],
   "source": [
    "f(-3)"
   ]
  },
  {
   "cell_type": "code",
   "execution_count": 10,
   "id": "4589e78a",
   "metadata": {},
   "outputs": [
    {
     "data": {
      "text/plain": [
       "array([-5, -4, -3, -2, -1,  0,  1,  2,  3])"
      ]
     },
     "execution_count": 10,
     "metadata": {},
     "output_type": "execute_result"
    }
   ],
   "source": [
    "np.arange(-5, 4)"
   ]
  },
  {
   "cell_type": "code",
   "execution_count": 11,
   "id": "402ec0bb",
   "metadata": {},
   "outputs": [],
   "source": [
    "valores_inteiros = np.arange(-5, 4+1)"
   ]
  },
  {
   "cell_type": "code",
   "execution_count": 12,
   "id": "75d2f3f3",
   "metadata": {},
   "outputs": [
    {
     "data": {
      "text/plain": [
       "array([-77, -25,   3,  13,  11,   3,  -5,  -7,   3,  31])"
      ]
     },
     "execution_count": 12,
     "metadata": {},
     "output_type": "execute_result"
    }
   ],
   "source": [
    "f(valores_inteiros)"
   ]
  },
  {
   "cell_type": "code",
   "execution_count": 13,
   "id": "ea4183a7",
   "metadata": {},
   "outputs": [
    {
     "data": {
      "text/plain": [
       "[<matplotlib.lines.Line2D at 0x7f75ee0c0070>]"
      ]
     },
     "execution_count": 13,
     "metadata": {},
     "output_type": "execute_result"
    },
    {
     "data": {
      "image/png": "[encoded data removed]",
      "text/plain": [
       "<Figure size 432x288 with 1 Axes>"
      ]
     },
     "metadata": {
      "needs_background": "light"
     },
     "output_type": "display_data"
    }
   ],
   "source": [
    "plt.plot(valores_inteiros, f(valores_inteiros))\n",
    "plt.plot(valores_inteiros, np.zeros(len(valores_inteiros)))"
   ]
  },
  {
   "cell_type": "code",
   "execution_count": 14,
   "id": "97654591",
   "metadata": {},
   "outputs": [
    {
     "data": {
      "text/plain": [
       "array([-5.        , -4.52631579, -4.05263158, -3.57894737, -3.10526316,\n",
       "       -2.63157895, -2.15789474, -1.68421053, -1.21052632, -0.73684211,\n",
       "       -0.26315789,  0.21052632,  0.68421053,  1.15789474,  1.63157895,\n",
       "        2.10526316,  2.57894737,  3.05263158,  3.52631579,  4.        ])"
      ]
     },
     "execution_count": 14,
     "metadata": {},
     "output_type": "execute_result"
    }
   ],
   "source": [
    "np.linspace(-5, 4, 20)"
   ]
  },
  {
   "cell_type": "code",
   "execution_count": 15,
   "id": "602bc627",
   "metadata": {},
   "outputs": [],
   "source": [
    "valores_igualmente_espacados = np.linspace(-5, 4, 200)"
   ]
  },
  {
   "cell_type": "code",
   "execution_count": 16,
   "id": "577fe8cc",
   "metadata": {},
   "outputs": [
    {
     "data": {
      "text/plain": [
       "array([-7.70000000e+01, -7.40456639e+01, -7.11521349e+01, -6.83188579e+01,\n",
       "       -6.55452778e+01, -6.28308398e+01, -6.01749886e+01, -5.75771693e+01,\n",
       "       -5.50368269e+01, -5.25534063e+01, -5.01263525e+01, -4.77551104e+01,\n",
       "       -4.54391250e+01, -4.31778413e+01, -4.09707043e+01, -3.88171588e+01,\n",
       "       -3.67166500e+01, -3.46686227e+01, -3.26725218e+01, -3.07277925e+01,\n",
       "       -2.88338796e+01, -2.69902282e+01, -2.51962830e+01, -2.34514893e+01,\n",
       "       -2.17552918e+01, -2.01071356e+01, -1.85064657e+01, -1.69527269e+01,\n",
       "       -1.54453644e+01, -1.39838229e+01, -1.25675476e+01, -1.11959833e+01,\n",
       "       -9.86857509e+00, -8.58476786e+00, -7.34400659e+00, -6.14573626e+00,\n",
       "       -4.98940182e+00, -3.87444825e+00, -2.80032051e+00, -1.76646356e+00,\n",
       "       -7.72322383e-01,  1.82658070e-01,  1.09903283e+00,  1.97735692e+00,\n",
       "        2.81818539e+00,  3.62207327e+00,  4.38957559e+00,  5.12124738e+00,\n",
       "        5.81764368e+00,  6.47931953e+00,  7.10682995e+00,  7.70072998e+00,\n",
       "        8.26157466e+00,  8.78991902e+00,  9.28631808e+00,  9.75132690e+00,\n",
       "        1.01855005e+01,  1.05893939e+01,  1.09635622e+01,  1.13085603e+01,\n",
       "        1.16249434e+01,  1.19132664e+01,  1.21740844e+01,  1.24079524e+01,\n",
       "        1.26154254e+01,  1.27970586e+01,  1.29534068e+01,  1.30850253e+01,\n",
       "        1.31924689e+01,  1.32762927e+01,  1.33370518e+01,  1.33753012e+01,\n",
       "        1.33915959e+01,  1.33864909e+01,  1.33605414e+01,  1.33143023e+01,\n",
       "        1.32483286e+01,  1.31631754e+01,  1.30593978e+01,  1.29375507e+01,\n",
       "        1.27981892e+01,  1.26418683e+01,  1.24691431e+01,  1.22805686e+01,\n",
       "        1.20766999e+01,  1.18580919e+01,  1.16252997e+01,  1.13788783e+01,\n",
       "        1.11193828e+01,  1.08473682e+01,  1.05633895e+01,  1.02680018e+01,\n",
       "        9.96176014e+00,  9.64521948e+00,  9.31893489e+00,  8.98346141e+00,\n",
       "        8.63935406e+00,  8.28716789e+00,  7.92745793e+00,  7.56077920e+00,\n",
       "        7.18768675e+00,  6.80873560e+00,  6.42448080e+00,  6.03547738e+00,\n",
       "        5.64228036e+00,  5.24544479e+00,  4.84552570e+00,  4.44307812e+00,\n",
       "        4.03865709e+00,  3.63281763e+00,  3.22611479e+00,  2.81910360e+00,\n",
       "        2.41233909e+00,  2.00637629e+00,  1.60177025e+00,  1.19907598e+00,\n",
       "        7.98848539e-01,  4.01642946e-01,  8.01423851e-03, -3.81482550e-01,\n",
       "       -7.66292385e-01, -1.14586023e+00, -1.51963106e+00, -1.88704983e+00,\n",
       "       -2.24756151e+00, -2.60061107e+00, -2.94564347e+00, -3.28210368e+00,\n",
       "       -3.60943667e+00, -3.92708740e+00, -4.23450083e+00, -4.53112194e+00,\n",
       "       -4.81639568e+00, -5.08976703e+00, -5.35068096e+00, -5.59858242e+00,\n",
       "       -5.83291638e+00, -6.05312781e+00, -6.25866168e+00, -6.44896295e+00,\n",
       "       -6.62347659e+00, -6.78164756e+00, -6.92292083e+00, -7.04674137e+00,\n",
       "       -7.15255414e+00, -7.23980411e+00, -7.30793624e+00, -7.35639550e+00,\n",
       "       -7.38462685e+00, -7.39207527e+00, -7.37818572e+00, -7.34240316e+00,\n",
       "       -7.28417256e+00, -7.20293889e+00, -7.09814711e+00, -6.96924219e+00,\n",
       "       -6.81566909e+00, -6.63687278e+00, -6.43229823e+00, -6.20139040e+00,\n",
       "       -5.94359426e+00, -5.65835478e+00, -5.34511691e+00, -5.00332564e+00,\n",
       "       -4.63242591e+00, -4.23186270e+00, -3.80108098e+00, -3.33952571e+00,\n",
       "       -2.84664186e+00, -2.32187439e+00, -1.76466827e+00, -1.17446846e+00,\n",
       "       -5.50719939e-01,  1.07132339e-01,  7.99643403e-01,  1.52736829e+00,\n",
       "        2.29086203e+00,  3.09067966e+00,  3.92737621e+00,  4.80150671e+00,\n",
       "        5.71362621e+00,  6.66428973e+00,  7.65405231e+00,  8.68346899e+00,\n",
       "        9.75309478e+00,  1.08634847e+01,  1.20151939e+01,  1.32087773e+01,\n",
       "        1.44447899e+01,  1.57237869e+01,  1.70463231e+01,  1.84129538e+01,\n",
       "        1.98242338e+01,  2.12807183e+01,  2.27829622e+01,  2.43315206e+01,\n",
       "        2.59269486e+01,  2.75698011e+01,  2.92606332e+01,  3.10000000e+01])"
      ]
     },
     "execution_count": 16,
     "metadata": {},
     "output_type": "execute_result"
    }
   ],
   "source": [
    "f(valores_igualmente_espacados)"
   ]
  },
  {
   "cell_type": "code",
   "execution_count": 17,
   "id": "444f58fe",
   "metadata": {},
   "outputs": [
    {
     "data": {
      "text/plain": [
       "[<matplotlib.lines.Line2D at 0x7f75ebf46bb0>]"
      ]
     },
     "execution_count": 17,
     "metadata": {},
     "output_type": "execute_result"
    },
    {
     "data": {
      "image/png": "[encoded data removed]",
      "text/plain": [
       "<Figure size 432x288 with 1 Axes>"
      ]
     },
     "metadata": {
      "needs_background": "light"
     },
     "output_type": "display_data"
    }
   ],
   "source": [
    "plt.plot(valores_igualmente_espacados, f(valores_igualmente_espacados))\n",
    "plt.plot(valores_igualmente_espacados, np.zeros(len(valores_igualmente_espacados)))"
   ]
  },
  {
   "cell_type": "code",
   "execution_count": 20,
   "id": "efce156a",
   "metadata": {},
   "outputs": [],
   "source": [
    "x = []\n",
    "y = []\n",
    "\n",
    "for i in range(-4, 4):\n",
    "    x.append(i)\n",
    "    y.append(f(i))\n",
    "\n",
    "tabela = pd.DataFrame({'x': x, 'f(x)': y})"
   ]
  },
  {
   "cell_type": "code",
   "execution_count": 22,
   "id": "719590bf",
   "metadata": {},
   "outputs": [],
   "source": [
    "tabela.set_index('x', inplace=True)"
   ]
  },
  {
   "cell_type": "code",
   "execution_count": 23,
   "id": "2bc7be92",
   "metadata": {},
   "outputs": [
    {
     "data": {
      "text/html": [
       "<div>\n",
       "<style scoped>\n",
       "    .dataframe tbody tr th:only-of-type {\n",
       "        vertical-align: middle;\n",
       "    }\n",
       "\n",
       "    .dataframe tbody tr th {\n",
       "        vertical-align: top;\n",
       "    }\n",
       "\n",
       "    .dataframe thead th {\n",
       "        text-align: right;\n",
       "    }\n",
       "</style>\n",
       "<table border=\"1\" class=\"dataframe\">\n",
       "  <thead>\n",
       "    <tr style=\"text-align: right;\">\n",
       "      <th></th>\n",
       "      <th>f(x)</th>\n",
       "    </tr>\n",
       "    <tr>\n",
       "      <th>x</th>\n",
       "      <th></th>\n",
       "    </tr>\n",
       "  </thead>\n",
       "  <tbody>\n",
       "    <tr>\n",
       "      <th>-4</th>\n",
       "      <td>-25</td>\n",
       "    </tr>\n",
       "    <tr>\n",
       "      <th>-3</th>\n",
       "      <td>3</td>\n",
       "    </tr>\n",
       "    <tr>\n",
       "      <th>-2</th>\n",
       "      <td>13</td>\n",
       "    </tr>\n",
       "    <tr>\n",
       "      <th>-1</th>\n",
       "      <td>11</td>\n",
       "    </tr>\n",
       "    <tr>\n",
       "      <th>0</th>\n",
       "      <td>3</td>\n",
       "    </tr>\n",
       "    <tr>\n",
       "      <th>1</th>\n",
       "      <td>-5</td>\n",
       "    </tr>\n",
       "    <tr>\n",
       "      <th>2</th>\n",
       "      <td>-7</td>\n",
       "    </tr>\n",
       "    <tr>\n",
       "      <th>3</th>\n",
       "      <td>3</td>\n",
       "    </tr>\n",
       "  </tbody>\n",
       "</table>\n",
       "</div>"
      ],
      "text/plain": [
       "    f(x)\n",
       "x       \n",
       "-4   -25\n",
       "-3     3\n",
       "-2    13\n",
       "-1    11\n",
       " 0     3\n",
       " 1    -5\n",
       " 2    -7\n",
       " 3     3"
      ]
     },
     "execution_count": 23,
     "metadata": {},
     "output_type": "execute_result"
    }
   ],
   "source": [
    "tabela"
   ]
  },
  {
   "cell_type": "code",
   "execution_count": 62,
   "id": "98688c43",
   "metadata": {},
   "outputs": [],
   "source": [
    "# supondo que b > a\n",
    "a = 0\n",
    "b = 1\n",
    "x = (b-a)/2 + a"
   ]
  },
  {
   "cell_type": "code",
   "execution_count": 63,
   "id": "e209de1f",
   "metadata": {},
   "outputs": [
    {
     "data": {
      "text/plain": [
       "(3, -5)"
      ]
     },
     "execution_count": 63,
     "metadata": {},
     "output_type": "execute_result"
    }
   ],
   "source": [
    "f(a), f(b)"
   ]
  },
  {
   "cell_type": "code",
   "execution_count": 64,
   "id": "1f4a5a1e",
   "metadata": {},
   "outputs": [
    {
     "data": {
      "text/plain": [
       "(0.5, -1.375)"
      ]
     },
     "execution_count": 64,
     "metadata": {},
     "output_type": "execute_result"
    }
   ],
   "source": [
    "x, f(x)"
   ]
  },
  {
   "cell_type": "code",
   "execution_count": 65,
   "id": "4938b3be",
   "metadata": {},
   "outputs": [],
   "source": [
    "b = x\n",
    "x = (b-a)/2 + a"
   ]
  },
  {
   "cell_type": "code",
   "execution_count": 66,
   "id": "5133e707",
   "metadata": {},
   "outputs": [
    {
     "data": {
      "text/plain": [
       "(0.25, 0.765625)"
      ]
     },
     "execution_count": 66,
     "metadata": {},
     "output_type": "execute_result"
    }
   ],
   "source": [
    "x, f(x)"
   ]
  },
  {
   "cell_type": "code",
   "execution_count": 67,
   "id": "e66186de",
   "metadata": {},
   "outputs": [],
   "source": [
    "a = x\n",
    "x = (b-a)/2 + a"
   ]
  },
  {
   "cell_type": "code",
   "execution_count": 68,
   "id": "bf358be4",
   "metadata": {},
   "outputs": [
    {
     "data": {
      "text/plain": [
       "(0.375, -0.322265625)"
      ]
     },
     "execution_count": 68,
     "metadata": {},
     "output_type": "execute_result"
    }
   ],
   "source": [
    "x, f(x)"
   ]
  },
  {
   "cell_type": "code",
   "execution_count": 69,
   "id": "7d8b3df4",
   "metadata": {},
   "outputs": [],
   "source": [
    "b = x\n",
    "x = (b-a)/2 + a"
   ]
  },
  {
   "cell_type": "code",
   "execution_count": 70,
   "id": "83e91c5f",
   "metadata": {},
   "outputs": [
    {
     "data": {
      "text/plain": [
       "(0.3125, 0.218017578125)"
      ]
     },
     "execution_count": 70,
     "metadata": {},
     "output_type": "execute_result"
    }
   ],
   "source": [
    "x, f(x)"
   ]
  },
  {
   "cell_type": "code",
   "execution_count": 84,
   "id": "0b680607",
   "metadata": {},
   "outputs": [],
   "source": [
    "CRESCENTE = 'CRESCENTE'\n",
    "DECRESCENTE = 'DECRESCENTE'\n",
    "\n",
    "class SolverMetodoBiseccao:\n",
    "    \n",
    "    def __init__(self, f, epsilon = 0.001):\n",
    "        self.f = f\n",
    "        self.tabela = {'a': [], 'b': [], 'b-a': [], 'x': [], 'f(x)': []}\n",
    "        self.epsilon = epsilon\n",
    "        self.crescimento = None\n",
    "    \n",
    "    def solve(self, a, b):\n",
    "        \n",
    "        self.tabela = {'a': [], 'b': [], 'b-a': [], 'x': [], 'f(x)': []}\n",
    "        \n",
    "        if f(a) < f(b):\n",
    "            self.crescimento = CRESCENTE\n",
    "        else:\n",
    "            self.crescimento = DECRESCENTE\n",
    "        \n",
    "        self._solve_recursive(a, b)\n",
    "        return pd.DataFrame(self.tabela)\n",
    "    \n",
    "    def _solve_recursive(self, a, b):\n",
    "        \n",
    "        x = (b-a)/2 + a\n",
    "        self.tabela['a'].append(a)\n",
    "        self.tabela['b'].append(b)\n",
    "        self.tabela['b-a'].append(b-a)\n",
    "        self.tabela['x'].append(x)\n",
    "        self.tabela['f(x)'].append(f(x))\n",
    "        \n",
    "        if (b-a) < self.epsilon:\n",
    "            return (b-a) / 2\n",
    "        \n",
    "        if self.crescimento == CRESCENTE:\n",
    "            if f(x) < 0:\n",
    "                return self._solve_recursive(x, b)\n",
    "            else:\n",
    "                return self._solve_recursive(a, x)\n",
    "        else:\n",
    "            if f(x) < 0:\n",
    "                return self._solve_recursive(a, x)\n",
    "            else:\n",
    "                return self._solve_recursive(x, b)\n",
    "            \n",
    "                \n",
    "        \n",
    "        \n",
    "        \n"
   ]
  },
  {
   "cell_type": "code",
   "execution_count": 85,
   "id": "90f06b73",
   "metadata": {},
   "outputs": [],
   "source": [
    "resolvedor = SolverMetodoBiseccao(f)"
   ]
  },
  {
   "cell_type": "code",
   "execution_count": 86,
   "id": "4d517258",
   "metadata": {},
   "outputs": [
    {
     "data": {
      "text/html": [
       "<div>\n",
       "<style scoped>\n",
       "    .dataframe tbody tr th:only-of-type {\n",
       "        vertical-align: middle;\n",
       "    }\n",
       "\n",
       "    .dataframe tbody tr th {\n",
       "        vertical-align: top;\n",
       "    }\n",
       "\n",
       "    .dataframe thead th {\n",
       "        text-align: right;\n",
       "    }\n",
       "</style>\n",
       "<table border=\"1\" class=\"dataframe\">\n",
       "  <thead>\n",
       "    <tr style=\"text-align: right;\">\n",
       "      <th></th>\n",
       "      <th>a</th>\n",
       "      <th>b</th>\n",
       "      <th>b-a</th>\n",
       "      <th>x</th>\n",
       "      <th>f(x)</th>\n",
       "    </tr>\n",
       "  </thead>\n",
       "  <tbody>\n",
       "    <tr>\n",
       "      <th>0</th>\n",
       "      <td>0.000000</td>\n",
       "      <td>1.000000</td>\n",
       "      <td>1.000000</td>\n",
       "      <td>0.500000</td>\n",
       "      <td>-1.375000</td>\n",
       "    </tr>\n",
       "    <tr>\n",
       "      <th>1</th>\n",
       "      <td>0.000000</td>\n",
       "      <td>0.500000</td>\n",
       "      <td>0.500000</td>\n",
       "      <td>0.250000</td>\n",
       "      <td>0.765625</td>\n",
       "    </tr>\n",
       "    <tr>\n",
       "      <th>2</th>\n",
       "      <td>0.250000</td>\n",
       "      <td>0.500000</td>\n",
       "      <td>0.250000</td>\n",
       "      <td>0.375000</td>\n",
       "      <td>-0.322266</td>\n",
       "    </tr>\n",
       "    <tr>\n",
       "      <th>3</th>\n",
       "      <td>0.250000</td>\n",
       "      <td>0.375000</td>\n",
       "      <td>0.125000</td>\n",
       "      <td>0.312500</td>\n",
       "      <td>0.218018</td>\n",
       "    </tr>\n",
       "    <tr>\n",
       "      <th>4</th>\n",
       "      <td>0.312500</td>\n",
       "      <td>0.375000</td>\n",
       "      <td>0.062500</td>\n",
       "      <td>0.343750</td>\n",
       "      <td>-0.053131</td>\n",
       "    </tr>\n",
       "    <tr>\n",
       "      <th>5</th>\n",
       "      <td>0.312500</td>\n",
       "      <td>0.343750</td>\n",
       "      <td>0.031250</td>\n",
       "      <td>0.328125</td>\n",
       "      <td>0.082203</td>\n",
       "    </tr>\n",
       "    <tr>\n",
       "      <th>6</th>\n",
       "      <td>0.328125</td>\n",
       "      <td>0.343750</td>\n",
       "      <td>0.015625</td>\n",
       "      <td>0.335938</td>\n",
       "      <td>0.014474</td>\n",
       "    </tr>\n",
       "    <tr>\n",
       "      <th>7</th>\n",
       "      <td>0.335938</td>\n",
       "      <td>0.343750</td>\n",
       "      <td>0.007812</td>\n",
       "      <td>0.339844</td>\n",
       "      <td>-0.019344</td>\n",
       "    </tr>\n",
       "    <tr>\n",
       "      <th>8</th>\n",
       "      <td>0.335938</td>\n",
       "      <td>0.339844</td>\n",
       "      <td>0.003906</td>\n",
       "      <td>0.337891</td>\n",
       "      <td>-0.002439</td>\n",
       "    </tr>\n",
       "    <tr>\n",
       "      <th>9</th>\n",
       "      <td>0.335938</td>\n",
       "      <td>0.337891</td>\n",
       "      <td>0.001953</td>\n",
       "      <td>0.336914</td>\n",
       "      <td>0.006017</td>\n",
       "    </tr>\n",
       "    <tr>\n",
       "      <th>10</th>\n",
       "      <td>0.336914</td>\n",
       "      <td>0.337891</td>\n",
       "      <td>0.000977</td>\n",
       "      <td>0.337402</td>\n",
       "      <td>0.001789</td>\n",
       "    </tr>\n",
       "  </tbody>\n",
       "</table>\n",
       "</div>"
      ],
      "text/plain": [
       "           a         b       b-a         x      f(x)\n",
       "0   0.000000  1.000000  1.000000  0.500000 -1.375000\n",
       "1   0.000000  0.500000  0.500000  0.250000  0.765625\n",
       "2   0.250000  0.500000  0.250000  0.375000 -0.322266\n",
       "3   0.250000  0.375000  0.125000  0.312500  0.218018\n",
       "4   0.312500  0.375000  0.062500  0.343750 -0.053131\n",
       "5   0.312500  0.343750  0.031250  0.328125  0.082203\n",
       "6   0.328125  0.343750  0.015625  0.335938  0.014474\n",
       "7   0.335938  0.343750  0.007812  0.339844 -0.019344\n",
       "8   0.335938  0.339844  0.003906  0.337891 -0.002439\n",
       "9   0.335938  0.337891  0.001953  0.336914  0.006017\n",
       "10  0.336914  0.337891  0.000977  0.337402  0.001789"
      ]
     },
     "execution_count": 86,
     "metadata": {},
     "output_type": "execute_result"
    }
   ],
   "source": [
    "resolvedor.solve(0, 1)"
   ]
  },
  {
   "cell_type": "code",
   "execution_count": null,
   "id": "eed72d1c",
   "metadata": {},
   "outputs": [],
   "source": []
  }
 ],
 "metadata": {
  "kernelspec": {
   "display_name": "Python 3 (ipykernel)",
   "language": "python",
   "name": "python3"
  },
  "language_info": {
   "codemirror_mode": {
    "name": "ipython",
    "version": 3
   },
   "file_extension": ".py",
   "mimetype": "text/x-python",
   "name": "python",
   "nbconvert_exporter": "python",
   "pygments_lexer": "ipython3",
   "version": "3.8.10"
  }
 },
 "nbformat": 4,
 "nbformat_minor": 5
}
