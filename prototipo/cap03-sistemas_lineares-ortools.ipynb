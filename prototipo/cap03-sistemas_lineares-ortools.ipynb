{
 "cells": [
  {
   "cell_type": "code",
   "execution_count": 11,
   "id": "3c807efa",
   "metadata": {},
   "outputs": [],
   "source": [
    "from ortools.linear_solver import pywraplp\n",
    "import numpy as np"
   ]
  },
  {
   "cell_type": "code",
   "execution_count": 2,
   "id": "e9072d9c",
   "metadata": {},
   "outputs": [],
   "source": [
    "solver = pywraplp.Solver.CreateSolver('GLOP')"
   ]
  },
  {
   "cell_type": "markdown",
   "id": "97e4a679",
   "metadata": {},
   "source": [
    "### equacao\n",
    "```\n",
    "2x_1 + x_2 = 3\n",
    "x_1 - 3x_2 = -2\n",
    "``` "
   ]
  },
  {
   "cell_type": "code",
   "execution_count": 3,
   "id": "18a31021",
   "metadata": {},
   "outputs": [],
   "source": [
    "x01 = solver.NumVar(-solver.infinity(), solver.infinity(), 'x_1')\n",
    "x02 = solver.NumVar(-solver.infinity(), solver.infinity(), 'x_2')"
   ]
  },
  {
   "cell_type": "code",
   "execution_count": 5,
   "id": "5f40f60c",
   "metadata": {},
   "outputs": [
    {
     "data": {
      "text/plain": [
       "<ortools.linear_solver.pywraplp.Constraint; proxy of <Swig Object of type 'operations_research::MPConstraint *' at 0x7f97326c6ab0> >"
      ]
     },
     "execution_count": 5,
     "metadata": {},
     "output_type": "execute_result"
    }
   ],
   "source": [
    "solver.Add(2*x01 + x02 == 3.0)"
   ]
  },
  {
   "cell_type": "code",
   "execution_count": 6,
   "id": "124a9b3e",
   "metadata": {},
   "outputs": [
    {
     "data": {
      "text/plain": [
       "<ortools.linear_solver.pywraplp.Constraint; proxy of <Swig Object of type 'operations_research::MPConstraint *' at 0x7f97326c65a0> >"
      ]
     },
     "execution_count": 6,
     "metadata": {},
     "output_type": "execute_result"
    }
   ],
   "source": [
    "solver.Add(x01 - 3*x02 == -2.0)"
   ]
  },
  {
   "cell_type": "code",
   "execution_count": 7,
   "id": "e1e9cfa8",
   "metadata": {},
   "outputs": [],
   "source": [
    "status = solver.Solve()"
   ]
  },
  {
   "cell_type": "code",
   "execution_count": 8,
   "id": "5fef60b2",
   "metadata": {},
   "outputs": [
    {
     "data": {
      "text/plain": [
       "0"
      ]
     },
     "execution_count": 8,
     "metadata": {},
     "output_type": "execute_result"
    }
   ],
   "source": [
    "status"
   ]
  },
  {
   "cell_type": "code",
   "execution_count": 9,
   "id": "5632d33e",
   "metadata": {},
   "outputs": [
    {
     "data": {
      "text/plain": [
       "0"
      ]
     },
     "execution_count": 9,
     "metadata": {},
     "output_type": "execute_result"
    }
   ],
   "source": [
    "pywraplp.Solver.OPTIMAL"
   ]
  },
  {
   "cell_type": "code",
   "execution_count": 10,
   "id": "ece2e5fa",
   "metadata": {},
   "outputs": [
    {
     "data": {
      "text/plain": [
       "(1.0, 1.0)"
      ]
     },
     "execution_count": 10,
     "metadata": {},
     "output_type": "execute_result"
    }
   ],
   "source": [
    "x01.solution_value(), x02.solution_value()"
   ]
  },
  {
   "cell_type": "code",
   "execution_count": 12,
   "id": "50ad6b60",
   "metadata": {},
   "outputs": [],
   "source": [
    "def resolve_equacao_linear(a: np.array, b: np.array):\n",
    "    solver = pywraplp.Solver.CreateSolver('GLOP')\n",
    "    variaveis = []\n",
    "    for i, _ in enumerate(range(a.shape(1))):\n",
    "        variaveis.append(solver.NumVar(-solver.infinity(), solver.infinity(), 'x'+str(i)))\n",
    "        \n",
    "    "
   ]
  },
  {
   "cell_type": "code",
   "execution_count": 13,
   "id": "602b57a5",
   "metadata": {},
   "outputs": [],
   "source": [
    "solver = pywraplp.Solver.CreateSolver('GLOP')"
   ]
  },
  {
   "cell_type": "code",
   "execution_count": 14,
   "id": "e1a84e2e",
   "metadata": {},
   "outputs": [],
   "source": [
    "x01 = solver.NumVar(-solver.infinity(), solver.infinity(), 'x_1')\n",
    "x02 = solver.NumVar(-solver.infinity(), solver.infinity(), 'x_2')"
   ]
  },
  {
   "cell_type": "code",
   "execution_count": 15,
   "id": "26d38f3b",
   "metadata": {},
   "outputs": [
    {
     "data": {
      "text/plain": [
       "<ortools.linear_solver.pywraplp.Constraint; proxy of <Swig Object of type 'operations_research::MPConstraint *' at 0x7f973334d990> >"
      ]
     },
     "execution_count": 15,
     "metadata": {},
     "output_type": "execute_result"
    }
   ],
   "source": [
    "solver.Add(2*x01 +   x02 == 3.0)\n",
    "solver.Add(4*x01 + 2*x02 == 6.0)\n"
   ]
  },
  {
   "cell_type": "code",
   "execution_count": 16,
   "id": "e98fd1b3",
   "metadata": {},
   "outputs": [],
   "source": [
    "status = solver.Solve()"
   ]
  },
  {
   "cell_type": "code",
   "execution_count": 17,
   "id": "0c52c796",
   "metadata": {},
   "outputs": [
    {
     "data": {
      "text/plain": [
       "(1.5, 0.0)"
      ]
     },
     "execution_count": 17,
     "metadata": {},
     "output_type": "execute_result"
    }
   ],
   "source": [
    "x01.solution_value(), x02.solution_value()"
   ]
  },
  {
   "cell_type": "code",
   "execution_count": 18,
   "id": "c372e1e5",
   "metadata": {},
   "outputs": [],
   "source": [
    "solver = pywraplp.Solver.CreateSolver('GLOP')"
   ]
  },
  {
   "cell_type": "code",
   "execution_count": 19,
   "id": "627ca6f8",
   "metadata": {},
   "outputs": [],
   "source": [
    "x01 = solver.NumVar(-solver.infinity(), solver.infinity(), 'x_1')\n",
    "x02 = solver.NumVar(-solver.infinity(), solver.infinity(), 'x_2')"
   ]
  },
  {
   "cell_type": "code",
   "execution_count": 20,
   "id": "b191215b",
   "metadata": {},
   "outputs": [
    {
     "data": {
      "text/plain": [
       "<ortools.linear_solver.pywraplp.Constraint; proxy of <Swig Object of type 'operations_research::MPConstraint *' at 0x7f973334d7e0> >"
      ]
     },
     "execution_count": 20,
     "metadata": {},
     "output_type": "execute_result"
    }
   ],
   "source": [
    "solver.Add(2*x01 +   x02 == 3.0)\n",
    "solver.Add(4*x01 + 2*x02 == 2.0)\n"
   ]
  },
  {
   "cell_type": "code",
   "execution_count": 21,
   "id": "1fabf625",
   "metadata": {},
   "outputs": [],
   "source": [
    "status = solver.Solve()"
   ]
  },
  {
   "cell_type": "code",
   "execution_count": 22,
   "id": "b25ec74f",
   "metadata": {},
   "outputs": [
    {
     "name": "stderr",
     "output_type": "stream",
     "text": [
      "WARNING: Logging before InitGoogleLogging() is written to STDERR\n",
      "E1021 19:27:54.148925 33521 linear_solver.cc:1712] No solution exists. MPSolverInterface::result_status_ = MPSOLVER_INFEASIBLE\n",
      "E1021 19:27:54.212402 33521 linear_solver.cc:1712] No solution exists. MPSolverInterface::result_status_ = MPSOLVER_INFEASIBLE\n"
     ]
    },
    {
     "data": {
      "text/plain": [
       "(0.0, 0.0)"
      ]
     },
     "execution_count": 22,
     "metadata": {},
     "output_type": "execute_result"
    }
   ],
   "source": [
    "x01.solution_value(), x02.solution_value()"
   ]
  },
  {
   "cell_type": "code",
   "execution_count": 23,
   "id": "e95758c7",
   "metadata": {},
   "outputs": [
    {
     "data": {
      "text/plain": [
       "2"
      ]
     },
     "execution_count": 23,
     "metadata": {},
     "output_type": "execute_result"
    }
   ],
   "source": [
    "status"
   ]
  },
  {
   "cell_type": "code",
   "execution_count": 24,
   "id": "864f7409",
   "metadata": {},
   "outputs": [
    {
     "data": {
      "text/plain": [
       "2"
      ]
     },
     "execution_count": 24,
     "metadata": {},
     "output_type": "execute_result"
    }
   ],
   "source": [
    "pywraplp.Solver.INFEASIBLE"
   ]
  },
  {
   "cell_type": "code",
   "execution_count": null,
   "id": "1128acbb",
   "metadata": {},
   "outputs": [],
   "source": []
  },
  {
   "cell_type": "markdown",
   "id": "32c5efcf",
   "metadata": {},
   "source": [
    "### Problema\n",
    "```\n",
    "Em um cofre há um total de R$ 21,00 apenas em moedas de R$ 0,50, R$ 0,25 e R$ 0,10. Sendo o número de moedas de R$ 0,50 quatro unidades maior que o dobro do número de moedas de R$ 0,10 e o número de moedas de R$ 0,25 é cinco unidades menor que o número de moedas de R$ 0,10, calcule o valor em moedas de R$ 0,50 contidas nesse cofre. \n",
    "```"
   ]
  },
  {
   "cell_type": "code",
   "execution_count": 44,
   "id": "1cfa1e62",
   "metadata": {},
   "outputs": [],
   "source": [
    "solver = pywraplp.Solver.CreateSolver('GLOP')"
   ]
  },
  {
   "cell_type": "code",
   "execution_count": 45,
   "id": "650d3c7f",
   "metadata": {},
   "outputs": [],
   "source": [
    "m50 = solver.IntVar(0, solver.infinity(), 'moeda_50')\n",
    "m25 = solver.IntVar(0, solver.infinity(), 'moeda_25')\n",
    "m10 = solver.IntVar(0, solver.infinity(), 'moeda_10')"
   ]
  },
  {
   "cell_type": "markdown",
   "id": "9e245756",
   "metadata": {},
   "source": [
    "### Restrições\n",
    "```\n",
    "m50*0.5 + m25*0.25 + m10*0.1 == 21\n",
    "m50 > 2m10 + 4\n",
    "m25 + 5 < m10\n",
    "\n",
    "```\n"
   ]
  },
  {
   "cell_type": "code",
   "execution_count": 46,
   "id": "8b26c638",
   "metadata": {},
   "outputs": [
    {
     "data": {
      "text/plain": [
       "<ortools.linear_solver.pywraplp.Constraint; proxy of <Swig Object of type 'operations_research::MPConstraint *' at 0x7f973318cc30> >"
      ]
     },
     "execution_count": 46,
     "metadata": {},
     "output_type": "execute_result"
    }
   ],
   "source": [
    "solver.Add(m50*0.5 + m25*0.25 + m10*0.1 == 21)\n",
    "solver.Add(m50 == 2*m10 + 4)\n",
    "solver.Add(m25 + 5 == m10)\n"
   ]
  },
  {
   "cell_type": "code",
   "execution_count": 47,
   "id": "350cd443",
   "metadata": {},
   "outputs": [
    {
     "data": {
      "text/plain": [
       "0"
      ]
     },
     "execution_count": 47,
     "metadata": {},
     "output_type": "execute_result"
    }
   ],
   "source": [
    "solver.Solve()"
   ]
  },
  {
   "cell_type": "code",
   "execution_count": 48,
   "id": "7b024225",
   "metadata": {},
   "outputs": [
    {
     "data": {
      "text/plain": [
       "(34.0, 9.999999999999998, 14.999999999999998)"
      ]
     },
     "execution_count": 48,
     "metadata": {},
     "output_type": "execute_result"
    }
   ],
   "source": [
    "m50.solution_value(), m25.solution_value(), m10.solution_value()"
   ]
  },
  {
   "cell_type": "code",
   "execution_count": null,
   "id": "85a0964b",
   "metadata": {},
   "outputs": [],
   "source": []
  }
 ],
 "metadata": {
  "kernelspec": {
   "display_name": "Python 3 (ipykernel)",
   "language": "python",
   "name": "python3"
  },
  "language_info": {
   "codemirror_mode": {
    "name": "ipython",
    "version": 3
   },
   "file_extension": ".py",
   "mimetype": "text/x-python",
   "name": "python",
   "nbconvert_exporter": "python",
   "pygments_lexer": "ipython3",
   "version": "3.8.10"
  }
 },
 "nbformat": 4,
 "nbformat_minor": 5
}
