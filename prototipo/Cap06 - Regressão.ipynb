{
 "cells": [
  {
   "cell_type": "code",
   "execution_count": 1,
   "id": "bb90bfa5",
   "metadata": {
    "pycharm": {
     "name": "#%%\n"
    }
   },
   "outputs": [],
   "source": [
    "import numpy as np\n",
    "import matplotlib.pyplot as plt"
   ]
  },
  {
   "cell_type": "code",
   "execution_count": 2,
   "outputs": [],
   "source": [
    "ao2 = 2\n",
    "ao1 = 4\n",
    "ao0 = -9\n",
    "def phi(x): return ao2*x**2 + ao1*x + ao0*1"
   ],
   "metadata": {
    "collapsed": false,
    "pycharm": {
     "name": "#%%\n"
    }
   }
  },
  {
   "cell_type": "code",
   "execution_count": 3,
   "outputs": [],
   "source": [
    "x_size = 100\n",
    "x_min = -10\n",
    "x_max = 10\n",
    "x_range = x_max - x_min\n",
    "x_lin = np.linspace(x_min, x_max, x_size)"
   ],
   "metadata": {
    "collapsed": false,
    "pycharm": {
     "name": "#%%\n"
    }
   }
  },
  {
   "cell_type": "code",
   "execution_count": 4,
   "outputs": [
    {
     "data": {
      "text/plain": "[<matplotlib.lines.Line2D at 0x7f34168b68e0>]"
     },
     "execution_count": 4,
     "metadata": {},
     "output_type": "execute_result"
    },
    {
     "data": {
      "text/plain": "<Figure size 432x288 with 1 Axes>",
      "image/png": "[encoded data removed]"
     },
     "metadata": {
      "needs_background": "light"
     },
     "output_type": "display_data"
    }
   ],
   "source": [
    "plt.plot(x_lin, phi(x_lin), 'r')"
   ],
   "metadata": {
    "collapsed": false,
    "pycharm": {
     "name": "#%%\n"
    }
   }
  },
  {
   "cell_type": "code",
   "execution_count": 5,
   "outputs": [],
   "source": [
    "x_experimento = x_min + np.random.rand(x_size)*x_range"
   ],
   "metadata": {
    "collapsed": false,
    "pycharm": {
     "name": "#%%\n"
    }
   }
  },
  {
   "cell_type": "code",
   "execution_count": 6,
   "outputs": [],
   "source": [
    "y_experimento = phi(x_experimento) + np.random.randn(x_size)*20"
   ],
   "metadata": {
    "collapsed": false,
    "pycharm": {
     "name": "#%%\n"
    }
   }
  },
  {
   "cell_type": "code",
   "execution_count": 7,
   "outputs": [
    {
     "data": {
      "text/plain": "<matplotlib.collections.PathCollection at 0x7f341474a310>"
     },
     "execution_count": 7,
     "metadata": {},
     "output_type": "execute_result"
    },
    {
     "data": {
      "text/plain": "<Figure size 432x288 with 1 Axes>",
      "image/png": "[encoded data removed]"
     },
     "metadata": {
      "needs_background": "light"
     },
     "output_type": "display_data"
    }
   ],
   "source": [
    "plt.scatter(x_experimento, y_experimento)"
   ],
   "metadata": {
    "collapsed": false,
    "pycharm": {
     "name": "#%%\n"
    }
   }
  },
  {
   "cell_type": "code",
   "execution_count": 8,
   "outputs": [
    {
     "data": {
      "text/plain": "array([[ 7.22939412e+00,  1.17544047e+02],\n       [-3.18409889e+00, -8.96025911e+00],\n       [ 2.98489759e+00,  1.44553071e+01],\n       [ 3.58716021e+00,  3.93298618e+01],\n       [ 1.52268717e+00,  2.68679444e+00],\n       [ 6.67067514e+00,  9.77672214e+01],\n       [ 1.72012745e+00,  6.38047927e+00],\n       [ 4.90118659e+00,  7.20147688e+01],\n       [-6.41855528e+00,  7.02403858e+01],\n       [-7.28934584e+00,  8.61516152e+01],\n       [ 3.51381656e+00,  6.44055152e+01],\n       [-8.11271817e+00,  1.47610107e+02],\n       [-1.30690649e+00, -5.51864698e+01],\n       [-1.56885259e+00, -1.39760829e+01],\n       [ 3.89370027e+00,  3.53261772e+01],\n       [-1.66664553e+00, -2.36812161e+01],\n       [-6.39195474e+00,  5.58158163e+01],\n       [ 9.75297010e+00,  2.07881801e+02],\n       [-7.15218350e+00,  9.86573258e+01],\n       [ 9.90457449e+00,  2.01837079e+02],\n       [-5.41247534e+00,  1.76912996e+01],\n       [ 4.63737829e+00,  1.79488969e+01],\n       [ 3.30860464e+00,  5.55266256e+00],\n       [ 5.71808293e+00,  6.42896658e+01],\n       [-3.46113034e+00,  6.29411790e+00],\n       [-1.75363291e+00, -1.77158440e+01],\n       [-1.78940079e+00, -1.51076126e+01],\n       [ 3.94751889e-01, -2.96554794e+01],\n       [ 7.77478666e-01, -3.56769403e+01],\n       [-6.90381040e+00,  1.66851759e+01],\n       [-7.69291436e+00,  8.00450189e+01],\n       [-8.41201350e+00,  1.28861919e+02],\n       [-4.89493241e+00,  2.55186141e+00],\n       [ 5.03670074e+00,  8.30321910e+01],\n       [ 4.08725803e+00,  2.60251257e+01],\n       [-7.51710817e+00,  6.99413077e+01],\n       [ 7.94438827e+00,  1.31938694e+02],\n       [-2.52575179e+00,  2.66368848e+01],\n       [ 9.28171233e+00,  2.16654460e+02],\n       [ 6.84362105e+00,  1.11911315e+02],\n       [-5.66878829e+00,  5.64062516e+01],\n       [ 9.73749376e+00,  1.80590066e+02],\n       [ 1.74331083e+00,  2.24091675e+01],\n       [ 1.26238862e+00, -6.12595163e+00],\n       [-2.41466594e+00,  1.58628669e+00],\n       [ 8.11816716e+00,  1.32168519e+02],\n       [ 8.11209519e+00,  1.33899233e+02],\n       [ 9.66013905e+00,  2.16338687e+02],\n       [ 4.59864060e+00,  8.01895001e+01],\n       [ 9.08178183e-01, -6.01486751e+01],\n       [ 3.48897747e+00,  6.24748086e+01],\n       [-7.48277253e+00,  1.04046183e+02],\n       [ 6.52184353e+00,  1.56389653e+02],\n       [-4.59657536e+00, -1.68014109e+01],\n       [ 8.50238545e+00,  1.62283321e+02],\n       [-7.34895747e+00,  3.77085188e+01],\n       [ 1.14287468e+00,  7.33118255e+00],\n       [ 2.64028317e+00,  8.23740382e+00],\n       [ 7.14092433e-01, -1.95338595e+01],\n       [-6.13274296e+00,  5.00621393e+01],\n       [-8.33322562e+00,  1.23104618e+02],\n       [-6.97659025e+00,  5.56427359e+01],\n       [-1.95230080e+00, -1.49653052e+01],\n       [-6.69806730e+00,  6.76294844e+01],\n       [-5.21571456e+00,  3.05401956e+01],\n       [-5.24589996e+00,  1.22617029e+01],\n       [-4.28587652e+00,  3.61934780e+01],\n       [-6.90619408e+00,  2.93520277e+01],\n       [-1.93848276e+00, -6.45847497e+01],\n       [ 6.27115747e+00,  8.92019731e+01],\n       [-4.43609859e+00,  3.64428794e+01],\n       [-3.12986896e+00, -1.11879545e+01],\n       [-9.20820637e+00,  1.18915629e+02],\n       [-3.21926206e+00, -1.93808577e+01],\n       [ 6.53361776e-01, -2.03998827e+01],\n       [ 8.36049186e+00,  1.98025891e+02],\n       [-2.31270623e+00,  1.22433591e+01],\n       [ 9.86752651e+00,  2.28582069e+02],\n       [ 6.86576085e+00,  1.06280988e+02],\n       [ 6.06877916e+00,  1.42890612e+02],\n       [-5.78964504e+00,  4.48553625e+01],\n       [ 7.06642775e+00,  1.25770534e+02],\n       [ 5.07895860e+00,  5.88649174e+01],\n       [-4.87039180e+00,  2.12217701e+01],\n       [ 1.13652661e+00,  5.26897130e+00],\n       [-2.17583951e+00,  4.27288281e+00],\n       [-5.52356588e+00,  5.43078461e+01],\n       [ 2.27269926e+00,  2.00956910e+01],\n       [-2.60348384e+00, -4.35639010e+00],\n       [-2.90423165e+00, -1.21556648e+00],\n       [ 3.25109394e+00,  1.19831663e+01],\n       [-6.69296572e+00,  6.42365055e+01],\n       [ 2.00205710e+00,  6.33911283e+01],\n       [ 2.22434991e+00,  2.92637081e+01],\n       [-2.30838796e-02, -8.71380311e+00],\n       [-9.85590100e+00,  1.20192258e+02],\n       [ 8.81973498e+00,  1.90656523e+02],\n       [ 4.15546371e+00,  2.03263397e+01],\n       [-3.78342792e-01, -2.35438164e+01],\n       [-4.69828740e+00, -6.25185238e+00]])"
     },
     "execution_count": 8,
     "metadata": {},
     "output_type": "execute_result"
    }
   ],
   "source": [
    "np.c_[x_experimento, y_experimento]"
   ],
   "metadata": {
    "collapsed": false,
    "pycharm": {
     "name": "#%%\n"
    }
   }
  },
  {
   "cell_type": "code",
   "source": [
    "x_exemplo = [-1, -1, 0, 0, 2, 2]\n",
    "y_exemplo = [\n",
    "    phi(-1) + 2,\n",
    "    phi(-1) - 2,\n",
    "    phi( 0) + 3,\n",
    "    phi( 0) - 3,\n",
    "    phi( 2) + 4,\n",
    "    phi( 2) - 4,\n",
    "    ]\n",
    "\n",
    "x_exemplo = np.array(x_exemplo)\n",
    "y_exemplo = np.array(y_exemplo)"
   ],
   "metadata": {
    "collapsed": false,
    "pycharm": {
     "name": "#%%\n"
    }
   },
   "execution_count": 9,
   "outputs": []
  },
  {
   "cell_type": "code",
   "source": [
    "plt.scatter(x_exemplo, y_exemplo)"
   ],
   "metadata": {
    "collapsed": false,
    "pycharm": {
     "name": "#%%\n"
    }
   },
   "execution_count": 10,
   "outputs": [
    {
     "data": {
      "text/plain": "<matplotlib.collections.PathCollection at 0x7f34146d33d0>"
     },
     "execution_count": 10,
     "metadata": {},
     "output_type": "execute_result"
    },
    {
     "data": {
      "text/plain": "<Figure size 432x288 with 1 Axes>",
      "image/png": "[encoded data removed]"
     },
     "metadata": {
      "needs_background": "light"
     },
     "output_type": "display_data"
    }
   ]
  },
  {
   "cell_type": "code",
   "execution_count": 11,
   "outputs": [
    {
     "data": {
      "text/plain": "array([[ -1,  -9],\n       [ -1, -13],\n       [  0,  -6],\n       [  0, -12],\n       [  2,  11],\n       [  2,   3]])"
     },
     "execution_count": 11,
     "metadata": {},
     "output_type": "execute_result"
    }
   ],
   "source": [
    "np.c_[x_exemplo, y_exemplo]"
   ],
   "metadata": {
    "collapsed": false,
    "pycharm": {
     "name": "#%%\n"
    }
   }
  },
  {
   "cell_type": "markdown",
   "source": [
    "```\n",
    "al0 g0(x) = 1\n",
    "al1 g1(x) = x\n",
    "al2 g2(x) = x^2\n",
    "```"
   ],
   "metadata": {
    "collapsed": false,
    "pycharm": {
     "name": "#%% md\n"
    }
   }
  },
  {
   "cell_type": "code",
   "execution_count": 12,
   "outputs": [],
   "source": [
    "def g0(x): return np.ones(len(x))\n",
    "def g1(x): return x\n",
    "def g2(x): return x**2\n"
   ],
   "metadata": {
    "collapsed": false,
    "pycharm": {
     "name": "#%%\n"
    }
   }
  },
  {
   "cell_type": "markdown",
   "source": [
    "```\n",
    "aij = sum_k gi(xk) * gj(xk)\n",
    "```\n"
   ],
   "metadata": {
    "collapsed": false,
    "pycharm": {
     "name": "#%% md\n"
    }
   }
  },
  {
   "cell_type": "code",
   "execution_count": 13,
   "outputs": [],
   "source": [
    "xe = x_exemplo\n",
    "ye = y_exemplo"
   ],
   "metadata": {
    "collapsed": false,
    "pycharm": {
     "name": "#%%\n"
    }
   }
  },
  {
   "cell_type": "code",
   "execution_count": 14,
   "outputs": [],
   "source": [
    "a00 = sum(g0(xe)*g0(xe))\n",
    "a01 = sum(g0(xe)*g1(xe))\n",
    "a02 = sum(g0(xe)*g2(xe))\n",
    "a10 = sum(g1(xe)*g0(xe))\n",
    "a11 = sum(g1(xe)*g1(xe))\n",
    "a12 = sum(g1(xe)*g2(xe))\n",
    "a20 = sum(g2(xe)*g0(xe))\n",
    "a21 = sum(g2(xe)*g1(xe))\n",
    "a22 = sum(g2(xe)*g2(xe))\n"
   ],
   "metadata": {
    "collapsed": false,
    "pycharm": {
     "name": "#%%\n"
    }
   }
  },
  {
   "cell_type": "markdown",
   "source": [
    "```\n",
    "bi = sum_k f(xk) * gi(xk)\n",
    "```"
   ],
   "metadata": {
    "collapsed": false
   }
  },
  {
   "cell_type": "code",
   "execution_count": 15,
   "outputs": [],
   "source": [
    "b0 = sum(ye*g0(xe))\n",
    "b1 = sum(ye*g1(xe))\n",
    "b2 = sum(ye*g2(xe))\n"
   ],
   "metadata": {
    "collapsed": false,
    "pycharm": {
     "name": "#%%\n"
    }
   }
  },
  {
   "cell_type": "code",
   "execution_count": 16,
   "outputs": [],
   "source": [
    "a = np.array([\n",
    "    [a00, a01, a02],\n",
    "    [a10, a11, a12],\n",
    "    [a20, a21, a22],\n",
    "])\n",
    "\n",
    "b = np.array([b0, b1, b2])"
   ],
   "metadata": {
    "collapsed": false,
    "pycharm": {
     "name": "#%%\n"
    }
   }
  },
  {
   "cell_type": "code",
   "execution_count": 17,
   "outputs": [
    {
     "data": {
      "text/plain": "array([[ 6.,  2., 10.],\n       [ 2., 10., 14.],\n       [10., 14., 34.]])"
     },
     "execution_count": 17,
     "metadata": {},
     "output_type": "execute_result"
    }
   ],
   "source": [
    "a"
   ],
   "metadata": {
    "collapsed": false,
    "pycharm": {
     "name": "#%%\n"
    }
   }
  },
  {
   "cell_type": "code",
   "execution_count": 18,
   "outputs": [
    {
     "data": {
      "text/plain": "array([-26.,  50.,  34.])"
     },
     "execution_count": 18,
     "metadata": {},
     "output_type": "execute_result"
    }
   ],
   "source": [
    "b"
   ],
   "metadata": {
    "collapsed": false,
    "pycharm": {
     "name": "#%%\n"
    }
   }
  },
  {
   "cell_type": "code",
   "execution_count": 19,
   "outputs": [],
   "source": [
    "alpha = np.linalg.solve(a, b)"
   ],
   "metadata": {
    "collapsed": false,
    "pycharm": {
     "name": "#%%\n"
    }
   }
  },
  {
   "cell_type": "code",
   "execution_count": 20,
   "outputs": [
    {
     "data": {
      "text/plain": "array([-9.,  4.,  2.])"
     },
     "execution_count": 20,
     "metadata": {},
     "output_type": "execute_result"
    }
   ],
   "source": [
    "alpha"
   ],
   "metadata": {
    "collapsed": false,
    "pycharm": {
     "name": "#%%\n"
    }
   }
  },
  {
   "cell_type": "code",
   "execution_count": 21,
   "outputs": [
    {
     "data": {
      "text/plain": "[<matplotlib.lines.Line2D at 0x7f34146478b0>]"
     },
     "execution_count": 21,
     "metadata": {},
     "output_type": "execute_result"
    },
    {
     "data": {
      "text/plain": "<Figure size 432x288 with 1 Axes>",
      "image/png": "[encoded data removed]"
     },
     "metadata": {
      "needs_background": "light"
     },
     "output_type": "display_data"
    }
   ],
   "source": [
    "plt.scatter(x_exemplo, y_exemplo)\n",
    "plt.plot(x_lin, alpha[2]*x_lin**2 + alpha[1]*x_lin + alpha[0], 'r')"
   ],
   "metadata": {
    "collapsed": false,
    "pycharm": {
     "name": "#%%\n"
    }
   }
  },
  {
   "cell_type": "markdown",
   "source": [
    "## Usando uma ferramenta de Machine Learning\n",
    "\n"
   ],
   "metadata": {
    "collapsed": false,
    "pycharm": {
     "name": "#%% md\n"
    }
   }
  },
  {
   "cell_type": "code",
   "execution_count": 22,
   "outputs": [],
   "source": [
    "from sklearn.linear_model import LinearRegression\n"
   ],
   "metadata": {
    "collapsed": false,
    "pycharm": {
     "name": "#%%\n"
    }
   }
  },
  {
   "cell_type": "code",
   "execution_count": 27,
   "outputs": [],
   "source": [
    "xe = x_experimento\n",
    "feature = np.c_[xe]"
   ],
   "metadata": {
    "collapsed": false,
    "pycharm": {
     "name": "#%%\n"
    }
   }
  },
  {
   "cell_type": "code",
   "execution_count": 28,
   "outputs": [
    {
     "data": {
      "text/plain": "array([[ 7.22939412],\n       [-3.18409889],\n       [ 2.98489759],\n       [ 3.58716021],\n       [ 1.52268717],\n       [ 6.67067514],\n       [ 1.72012745],\n       [ 4.90118659],\n       [-6.41855528],\n       [-7.28934584],\n       [ 3.51381656],\n       [-8.11271817],\n       [-1.30690649],\n       [-1.56885259],\n       [ 3.89370027],\n       [-1.66664553],\n       [-6.39195474],\n       [ 9.7529701 ],\n       [-7.1521835 ],\n       [ 9.90457449],\n       [-5.41247534],\n       [ 4.63737829],\n       [ 3.30860464],\n       [ 5.71808293],\n       [-3.46113034],\n       [-1.75363291],\n       [-1.78940079],\n       [ 0.39475189],\n       [ 0.77747867],\n       [-6.9038104 ],\n       [-7.69291436],\n       [-8.4120135 ],\n       [-4.89493241],\n       [ 5.03670074],\n       [ 4.08725803],\n       [-7.51710817],\n       [ 7.94438827],\n       [-2.52575179],\n       [ 9.28171233],\n       [ 6.84362105],\n       [-5.66878829],\n       [ 9.73749376],\n       [ 1.74331083],\n       [ 1.26238862],\n       [-2.41466594],\n       [ 8.11816716],\n       [ 8.11209519],\n       [ 9.66013905],\n       [ 4.5986406 ],\n       [ 0.90817818],\n       [ 3.48897747],\n       [-7.48277253],\n       [ 6.52184353],\n       [-4.59657536],\n       [ 8.50238545],\n       [-7.34895747],\n       [ 1.14287468],\n       [ 2.64028317],\n       [ 0.71409243],\n       [-6.13274296],\n       [-8.33322562],\n       [-6.97659025],\n       [-1.9523008 ],\n       [-6.6980673 ],\n       [-5.21571456],\n       [-5.24589996],\n       [-4.28587652],\n       [-6.90619408],\n       [-1.93848276],\n       [ 6.27115747],\n       [-4.43609859],\n       [-3.12986896],\n       [-9.20820637],\n       [-3.21926206],\n       [ 0.65336178],\n       [ 8.36049186],\n       [-2.31270623],\n       [ 9.86752651],\n       [ 6.86576085],\n       [ 6.06877916],\n       [-5.78964504],\n       [ 7.06642775],\n       [ 5.0789586 ],\n       [-4.8703918 ],\n       [ 1.13652661],\n       [-2.17583951],\n       [-5.52356588],\n       [ 2.27269926],\n       [-2.60348384],\n       [-2.90423165],\n       [ 3.25109394],\n       [-6.69296572],\n       [ 2.0020571 ],\n       [ 2.22434991],\n       [-0.02308388],\n       [-9.855901  ],\n       [ 8.81973498],\n       [ 4.15546371],\n       [-0.37834279],\n       [-4.6982874 ]])"
     },
     "execution_count": 28,
     "metadata": {},
     "output_type": "execute_result"
    }
   ],
   "source": [
    "feature"
   ],
   "metadata": {
    "collapsed": false,
    "pycharm": {
     "name": "#%%\n"
    }
   }
  },
  {
   "cell_type": "code",
   "execution_count": 29,
   "outputs": [],
   "source": [
    "target = y_experimento"
   ],
   "metadata": {
    "collapsed": false,
    "pycharm": {
     "name": "#%%\n"
    }
   }
  },
  {
   "cell_type": "code",
   "execution_count": 30,
   "outputs": [
    {
     "data": {
      "text/plain": "<matplotlib.collections.PathCollection at 0x7f33e738aa90>"
     },
     "execution_count": 30,
     "metadata": {},
     "output_type": "execute_result"
    },
    {
     "data": {
      "text/plain": "<Figure size 432x288 with 1 Axes>",
      "image/png": "[encoded data removed]"
     },
     "metadata": {
      "needs_background": "light"
     },
     "output_type": "display_data"
    }
   ],
   "source": [
    "plt.scatter(xe, target)"
   ],
   "metadata": {
    "collapsed": false,
    "pycharm": {
     "name": "#%%\n"
    }
   }
  },
  {
   "cell_type": "code",
   "execution_count": 31,
   "outputs": [],
   "source": [
    "lin_reg = LinearRegression()"
   ],
   "metadata": {
    "collapsed": false,
    "pycharm": {
     "name": "#%%\n"
    }
   }
  },
  {
   "cell_type": "code",
   "execution_count": 32,
   "outputs": [
    {
     "data": {
      "text/plain": "LinearRegression()"
     },
     "execution_count": 32,
     "metadata": {},
     "output_type": "execute_result"
    }
   ],
   "source": [
    "lin_reg.fit(feature, target)\n"
   ],
   "metadata": {
    "collapsed": false,
    "pycharm": {
     "name": "#%%\n"
    }
   }
  },
  {
   "cell_type": "code",
   "execution_count": 33,
   "outputs": [
    {
     "data": {
      "text/plain": "(53.68103969028847, array([5.24597505]))"
     },
     "execution_count": 33,
     "metadata": {},
     "output_type": "execute_result"
    }
   ],
   "source": [
    "lin_reg.intercept_, lin_reg.coef_"
   ],
   "metadata": {
    "collapsed": false,
    "pycharm": {
     "name": "#%%\n"
    }
   }
  },
  {
   "cell_type": "code",
   "execution_count": 34,
   "outputs": [],
   "source": [
    "c, b = lin_reg.intercept_, lin_reg.coef_"
   ],
   "metadata": {
    "collapsed": false,
    "pycharm": {
     "name": "#%%\n"
    }
   }
  },
  {
   "cell_type": "code",
   "execution_count": 35,
   "outputs": [
    {
     "data": {
      "text/plain": "[<matplotlib.lines.Line2D at 0x7f33e6e055e0>]"
     },
     "execution_count": 35,
     "metadata": {},
     "output_type": "execute_result"
    },
    {
     "data": {
      "text/plain": "<Figure size 432x288 with 1 Axes>",
      "image/png": "[encoded data removed]"
     },
     "metadata": {
      "needs_background": "light"
     },
     "output_type": "display_data"
    }
   ],
   "source": [
    "plt.scatter(xe, target)\n",
    "plt.plot(x_lin, b*x_lin + c, 'r')"
   ],
   "metadata": {
    "collapsed": false,
    "pycharm": {
     "name": "#%%\n"
    }
   }
  },
  {
   "cell_type": "markdown",
   "source": [
    "## Agora fazendo corretamente uma quadrática"
   ],
   "metadata": {
    "collapsed": false,
    "pycharm": {
     "name": "#%% md\n"
    }
   }
  },
  {
   "cell_type": "code",
   "execution_count": 36,
   "outputs": [],
   "source": [
    "xe = x_experimento\n",
    "feature = np.c_[g0(xe), g1(xe), g2(xe)]"
   ],
   "metadata": {
    "collapsed": false,
    "pycharm": {
     "name": "#%%\n"
    }
   }
  },
  {
   "cell_type": "code",
   "execution_count": 37,
   "outputs": [
    {
     "data": {
      "text/plain": "array([[ 1.00000000e+00,  7.22939412e+00,  5.22641394e+01],\n       [ 1.00000000e+00, -3.18409889e+00,  1.01384858e+01],\n       [ 1.00000000e+00,  2.98489759e+00,  8.90961363e+00],\n       [ 1.00000000e+00,  3.58716021e+00,  1.28677184e+01],\n       [ 1.00000000e+00,  1.52268717e+00,  2.31857621e+00],\n       [ 1.00000000e+00,  6.67067514e+00,  4.44979068e+01],\n       [ 1.00000000e+00,  1.72012745e+00,  2.95883845e+00],\n       [ 1.00000000e+00,  4.90118659e+00,  2.40216300e+01],\n       [ 1.00000000e+00, -6.41855528e+00,  4.11978518e+01],\n       [ 1.00000000e+00, -7.28934584e+00,  5.31345627e+01],\n       [ 1.00000000e+00,  3.51381656e+00,  1.23469068e+01],\n       [ 1.00000000e+00, -8.11271817e+00,  6.58161961e+01],\n       [ 1.00000000e+00, -1.30690649e+00,  1.70800457e+00],\n       [ 1.00000000e+00, -1.56885259e+00,  2.46129844e+00],\n       [ 1.00000000e+00,  3.89370027e+00,  1.51609018e+01],\n       [ 1.00000000e+00, -1.66664553e+00,  2.77770731e+00],\n       [ 1.00000000e+00, -6.39195474e+00,  4.08570854e+01],\n       [ 1.00000000e+00,  9.75297010e+00,  9.51204259e+01],\n       [ 1.00000000e+00, -7.15218350e+00,  5.11537289e+01],\n       [ 1.00000000e+00,  9.90457449e+00,  9.81005959e+01],\n       [ 1.00000000e+00, -5.41247534e+00,  2.92948893e+01],\n       [ 1.00000000e+00,  4.63737829e+00,  2.15052774e+01],\n       [ 1.00000000e+00,  3.30860464e+00,  1.09468647e+01],\n       [ 1.00000000e+00,  5.71808293e+00,  3.26964724e+01],\n       [ 1.00000000e+00, -3.46113034e+00,  1.19794232e+01],\n       [ 1.00000000e+00, -1.75363291e+00,  3.07522839e+00],\n       [ 1.00000000e+00, -1.78940079e+00,  3.20195519e+00],\n       [ 1.00000000e+00,  3.94751889e-01,  1.55829054e-01],\n       [ 1.00000000e+00,  7.77478666e-01,  6.04473076e-01],\n       [ 1.00000000e+00, -6.90381040e+00,  4.76625981e+01],\n       [ 1.00000000e+00, -7.69291436e+00,  5.91809314e+01],\n       [ 1.00000000e+00, -8.41201350e+00,  7.07619711e+01],\n       [ 1.00000000e+00, -4.89493241e+00,  2.39603633e+01],\n       [ 1.00000000e+00,  5.03670074e+00,  2.53683543e+01],\n       [ 1.00000000e+00,  4.08725803e+00,  1.67056782e+01],\n       [ 1.00000000e+00, -7.51710817e+00,  5.65069153e+01],\n       [ 1.00000000e+00,  7.94438827e+00,  6.31133050e+01],\n       [ 1.00000000e+00, -2.52575179e+00,  6.37942208e+00],\n       [ 1.00000000e+00,  9.28171233e+00,  8.61501839e+01],\n       [ 1.00000000e+00,  6.84362105e+00,  4.68351491e+01],\n       [ 1.00000000e+00, -5.66878829e+00,  3.21351607e+01],\n       [ 1.00000000e+00,  9.73749376e+00,  9.48187848e+01],\n       [ 1.00000000e+00,  1.74331083e+00,  3.03913266e+00],\n       [ 1.00000000e+00,  1.26238862e+00,  1.59362502e+00],\n       [ 1.00000000e+00, -2.41466594e+00,  5.83061158e+00],\n       [ 1.00000000e+00,  8.11816716e+00,  6.59046380e+01],\n       [ 1.00000000e+00,  8.11209519e+00,  6.58060883e+01],\n       [ 1.00000000e+00,  9.66013905e+00,  9.33182864e+01],\n       [ 1.00000000e+00,  4.59864060e+00,  2.11474954e+01],\n       [ 1.00000000e+00,  9.08178183e-01,  8.24787612e-01],\n       [ 1.00000000e+00,  3.48897747e+00,  1.21729638e+01],\n       [ 1.00000000e+00, -7.48277253e+00,  5.59918847e+01],\n       [ 1.00000000e+00,  6.52184353e+00,  4.25344430e+01],\n       [ 1.00000000e+00, -4.59657536e+00,  2.11285051e+01],\n       [ 1.00000000e+00,  8.50238545e+00,  7.22905583e+01],\n       [ 1.00000000e+00, -7.34895747e+00,  5.40071759e+01],\n       [ 1.00000000e+00,  1.14287468e+00,  1.30616253e+00],\n       [ 1.00000000e+00,  2.64028317e+00,  6.97109524e+00],\n       [ 1.00000000e+00,  7.14092433e-01,  5.09928003e-01],\n       [ 1.00000000e+00, -6.13274296e+00,  3.76105362e+01],\n       [ 1.00000000e+00, -8.33322562e+00,  6.94426493e+01],\n       [ 1.00000000e+00, -6.97659025e+00,  4.86728116e+01],\n       [ 1.00000000e+00, -1.95230080e+00,  3.81147843e+00],\n       [ 1.00000000e+00, -6.69806730e+00,  4.48641055e+01],\n       [ 1.00000000e+00, -5.21571456e+00,  2.72036784e+01],\n       [ 1.00000000e+00, -5.24589996e+00,  2.75194664e+01],\n       [ 1.00000000e+00, -4.28587652e+00,  1.83687376e+01],\n       [ 1.00000000e+00, -6.90619408e+00,  4.76955167e+01],\n       [ 1.00000000e+00, -1.93848276e+00,  3.75771541e+00],\n       [ 1.00000000e+00,  6.27115747e+00,  3.93274160e+01],\n       [ 1.00000000e+00, -4.43609859e+00,  1.96789707e+01],\n       [ 1.00000000e+00, -3.12986896e+00,  9.79607969e+00],\n       [ 1.00000000e+00, -9.20820637e+00,  8.47910645e+01],\n       [ 1.00000000e+00, -3.21926206e+00,  1.03636482e+01],\n       [ 1.00000000e+00,  6.53361776e-01,  4.26881610e-01],\n       [ 1.00000000e+00,  8.36049186e+00,  6.98978241e+01],\n       [ 1.00000000e+00, -2.31270623e+00,  5.34861012e+00],\n       [ 1.00000000e+00,  9.86752651e+00,  9.73680795e+01],\n       [ 1.00000000e+00,  6.86576085e+00,  4.71386721e+01],\n       [ 1.00000000e+00,  6.06877916e+00,  3.68300805e+01],\n       [ 1.00000000e+00, -5.78964504e+00,  3.35199897e+01],\n       [ 1.00000000e+00,  7.06642775e+00,  4.99344012e+01],\n       [ 1.00000000e+00,  5.07895860e+00,  2.57958205e+01],\n       [ 1.00000000e+00, -4.87039180e+00,  2.37207162e+01],\n       [ 1.00000000e+00,  1.13652661e+00,  1.29169274e+00],\n       [ 1.00000000e+00, -2.17583951e+00,  4.73427757e+00],\n       [ 1.00000000e+00, -5.52356588e+00,  3.05097801e+01],\n       [ 1.00000000e+00,  2.27269926e+00,  5.16516193e+00],\n       [ 1.00000000e+00, -2.60348384e+00,  6.77812811e+00],\n       [ 1.00000000e+00, -2.90423165e+00,  8.43456146e+00],\n       [ 1.00000000e+00,  3.25109394e+00,  1.05696118e+01],\n       [ 1.00000000e+00, -6.69296572e+00,  4.47957901e+01],\n       [ 1.00000000e+00,  2.00205710e+00,  4.00823262e+00],\n       [ 1.00000000e+00,  2.22434991e+00,  4.94773252e+00],\n       [ 1.00000000e+00, -2.30838796e-02,  5.32865498e-04],\n       [ 1.00000000e+00, -9.85590100e+00,  9.71387845e+01],\n       [ 1.00000000e+00,  8.81973498e+00,  7.77877251e+01],\n       [ 1.00000000e+00,  4.15546371e+00,  1.72678787e+01],\n       [ 1.00000000e+00, -3.78342792e-01,  1.43143269e-01],\n       [ 1.00000000e+00, -4.69828740e+00,  2.20739045e+01]])"
     },
     "execution_count": 37,
     "metadata": {},
     "output_type": "execute_result"
    }
   ],
   "source": [
    "feature"
   ],
   "metadata": {
    "collapsed": false,
    "pycharm": {
     "name": "#%%\n"
    }
   }
  },
  {
   "cell_type": "code",
   "execution_count": 38,
   "outputs": [],
   "source": [
    "target = y_experimento"
   ],
   "metadata": {
    "collapsed": false,
    "pycharm": {
     "name": "#%%\n"
    }
   }
  },
  {
   "cell_type": "code",
   "execution_count": 39,
   "outputs": [
    {
     "data": {
      "text/plain": "<matplotlib.collections.PathCollection at 0x7f33e760b220>"
     },
     "execution_count": 39,
     "metadata": {},
     "output_type": "execute_result"
    },
    {
     "data": {
      "text/plain": "<Figure size 432x288 with 1 Axes>",
      "image/png": "[encoded data removed]"
     },
     "metadata": {
      "needs_background": "light"
     },
     "output_type": "display_data"
    }
   ],
   "source": [
    "plt.scatter(xe, target)"
   ],
   "metadata": {
    "collapsed": false,
    "pycharm": {
     "name": "#%%\n"
    }
   }
  },
  {
   "cell_type": "code",
   "execution_count": 40,
   "outputs": [],
   "source": [
    "lin_reg = LinearRegression()"
   ],
   "metadata": {
    "collapsed": false,
    "pycharm": {
     "name": "#%%\n"
    }
   }
  },
  {
   "cell_type": "code",
   "execution_count": 41,
   "outputs": [
    {
     "data": {
      "text/plain": "LinearRegression()"
     },
     "execution_count": 41,
     "metadata": {},
     "output_type": "execute_result"
    }
   ],
   "source": [
    "lin_reg.fit(feature, target)"
   ],
   "metadata": {
    "collapsed": false,
    "pycharm": {
     "name": "#%%\n"
    }
   }
  },
  {
   "cell_type": "code",
   "execution_count": 42,
   "outputs": [
    {
     "data": {
      "text/plain": "(-10.188799619393045, array([0.        , 3.65317717, 2.04591194]))"
     },
     "execution_count": 42,
     "metadata": {},
     "output_type": "execute_result"
    }
   ],
   "source": [
    "lin_reg.intercept_, lin_reg.coef_"
   ],
   "metadata": {
    "collapsed": false,
    "pycharm": {
     "name": "#%%\n"
    }
   }
  },
  {
   "cell_type": "code",
   "execution_count": 43,
   "outputs": [],
   "source": [
    "c, (_, b, a) = lin_reg.intercept_, lin_reg.coef_"
   ],
   "metadata": {
    "collapsed": false,
    "pycharm": {
     "name": "#%%\n"
    }
   }
  },
  {
   "cell_type": "code",
   "execution_count": 44,
   "outputs": [
    {
     "data": {
      "text/plain": "(2.045911940621587, 3.6531771674049147, -10.188799619393045)"
     },
     "execution_count": 44,
     "metadata": {},
     "output_type": "execute_result"
    }
   ],
   "source": [
    "a, b, c"
   ],
   "metadata": {
    "collapsed": false,
    "pycharm": {
     "name": "#%%\n"
    }
   }
  },
  {
   "cell_type": "code",
   "execution_count": 45,
   "outputs": [
    {
     "data": {
      "text/plain": "[<matplotlib.lines.Line2D at 0x7f33e85d60d0>]"
     },
     "execution_count": 45,
     "metadata": {},
     "output_type": "execute_result"
    },
    {
     "data": {
      "text/plain": "<Figure size 432x288 with 1 Axes>",
      "image/png": "[encoded data removed]"
     },
     "metadata": {
      "needs_background": "light"
     },
     "output_type": "display_data"
    }
   ],
   "source": [
    "plt.scatter(xe, target)\n",
    "plt.plot(x_lin, a*x_lin**2 + b*x_lin + c, 'r')\n"
   ],
   "metadata": {
    "collapsed": false,
    "pycharm": {
     "name": "#%%\n"
    }
   }
  },
  {
   "cell_type": "code",
   "execution_count": null,
   "outputs": [],
   "source": [],
   "metadata": {
    "collapsed": false,
    "pycharm": {
     "name": "#%%\n"
    }
   }
  }
 ],
 "metadata": {
  "kernelspec": {
   "display_name": "Python 3 (ipykernel)",
   "language": "python",
   "name": "python3"
  },
  "language_info": {
   "codemirror_mode": {
    "name": "ipython",
    "version": 3
   },
   "file_extension": ".py",
   "mimetype": "text/x-python",
   "name": "python",
   "nbconvert_exporter": "python",
   "pygments_lexer": "ipython3",
   "version": "3.8.10"
  }
 },
 "nbformat": 4,
 "nbformat_minor": 5
}