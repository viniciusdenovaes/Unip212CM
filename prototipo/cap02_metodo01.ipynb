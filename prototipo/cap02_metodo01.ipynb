{
 "cells": [
  {
   "cell_type": "code",
   "execution_count": 6,
   "id": "76a25e6f",
   "metadata": {},
   "outputs": [],
   "source": [
    "import numpy as np\n",
    "import matplotlib.pyplot as plt"
   ]
  },
  {
   "cell_type": "code",
   "execution_count": 1,
   "id": "9b3a3955",
   "metadata": {},
   "outputs": [],
   "source": [
    "def f(x):\n",
    "    return x**3 - 9*x + 3"
   ]
  },
  {
   "cell_type": "code",
   "execution_count": 2,
   "id": "f6c398c9",
   "metadata": {},
   "outputs": [
    {
     "data": {
      "text/plain": [
       "3"
      ]
     },
     "execution_count": 2,
     "metadata": {},
     "output_type": "execute_result"
    }
   ],
   "source": [
    "f(0)"
   ]
  },
  {
   "cell_type": "code",
   "execution_count": 3,
   "id": "8ba30b2e",
   "metadata": {},
   "outputs": [
    {
     "data": {
      "text/plain": [
       "-25"
      ]
     },
     "execution_count": 3,
     "metadata": {},
     "output_type": "execute_result"
    }
   ],
   "source": [
    "f(-4)"
   ]
  },
  {
   "cell_type": "code",
   "execution_count": 4,
   "id": "28ad24ec",
   "metadata": {},
   "outputs": [
    {
     "data": {
      "text/plain": [
       "3"
      ]
     },
     "execution_count": 4,
     "metadata": {},
     "output_type": "execute_result"
    }
   ],
   "source": [
    "f(-3)"
   ]
  },
  {
   "cell_type": "code",
   "execution_count": 7,
   "id": "5bac0c6f",
   "metadata": {},
   "outputs": [
    {
     "data": {
      "text/plain": [
       "array([-5, -4, -3, -2, -1,  0,  1,  2,  3])"
      ]
     },
     "execution_count": 7,
     "metadata": {},
     "output_type": "execute_result"
    }
   ],
   "source": [
    "np.arange(-5, 4)"
   ]
  },
  {
   "cell_type": "code",
   "execution_count": 17,
   "id": "c367d860",
   "metadata": {},
   "outputs": [],
   "source": [
    "valores_inteiros = np.arange(-5, 4+1)"
   ]
  },
  {
   "cell_type": "code",
   "execution_count": 18,
   "id": "8b635c26",
   "metadata": {},
   "outputs": [
    {
     "data": {
      "text/plain": [
       "array([-77, -25,   3,  13,  11,   3,  -5,  -7,   3,  31])"
      ]
     },
     "execution_count": 18,
     "metadata": {},
     "output_type": "execute_result"
    }
   ],
   "source": [
    "f(valores_inteiros)"
   ]
  },
  {
   "cell_type": "code",
   "execution_count": 25,
   "id": "65f9efd9",
   "metadata": {},
   "outputs": [
    {
     "data": {
      "text/plain": [
       "[<matplotlib.lines.Line2D at 0x7f50461fd9a0>]"
      ]
     },
     "execution_count": 25,
     "metadata": {},
     "output_type": "execute_result"
    },
    {
     "data": {
      "image/png": "[encoded data removed]",
      "text/plain": [
       "<Figure size 432x288 with 1 Axes>"
      ]
     },
     "metadata": {
      "needs_background": "light"
     },
     "output_type": "display_data"
    }
   ],
   "source": [
    "plt.plot(valores_inteiros, f(valores_inteiros))\n",
    "plt.plot(valores_inteiros, np.zeros(len(valores_inteiros)))"
   ]
  },
  {
   "cell_type": "code",
   "execution_count": 37,
   "id": "1720af81",
   "metadata": {},
   "outputs": [
    {
     "data": {
      "text/plain": [
       "array([-5.        , -4.95477387, -4.90954774, -4.86432161, -4.81909548,\n",
       "       -4.77386935, -4.72864322, -4.68341709, -4.63819095, -4.59296482,\n",
       "       -4.54773869, -4.50251256, -4.45728643, -4.4120603 , -4.36683417,\n",
       "       -4.32160804, -4.27638191, -4.23115578, -4.18592965, -4.14070352,\n",
       "       -4.09547739, -4.05025126, -4.00502513, -3.95979899, -3.91457286,\n",
       "       -3.86934673, -3.8241206 , -3.77889447, -3.73366834, -3.68844221,\n",
       "       -3.64321608, -3.59798995, -3.55276382, -3.50753769, -3.46231156,\n",
       "       -3.41708543, -3.3718593 , -3.32663317, -3.28140704, -3.2361809 ,\n",
       "       -3.19095477, -3.14572864, -3.10050251, -3.05527638, -3.01005025,\n",
       "       -2.96482412, -2.91959799, -2.87437186, -2.82914573, -2.7839196 ,\n",
       "       -2.73869347, -2.69346734, -2.64824121, -2.60301508, -2.55778894,\n",
       "       -2.51256281, -2.46733668, -2.42211055, -2.37688442, -2.33165829,\n",
       "       -2.28643216, -2.24120603, -2.1959799 , -2.15075377, -2.10552764,\n",
       "       -2.06030151, -2.01507538, -1.96984925, -1.92462312, -1.87939698,\n",
       "       -1.83417085, -1.78894472, -1.74371859, -1.69849246, -1.65326633,\n",
       "       -1.6080402 , -1.56281407, -1.51758794, -1.47236181, -1.42713568,\n",
       "       -1.38190955, -1.33668342, -1.29145729, -1.24623116, -1.20100503,\n",
       "       -1.15577889, -1.11055276, -1.06532663, -1.0201005 , -0.97487437,\n",
       "       -0.92964824, -0.88442211, -0.83919598, -0.79396985, -0.74874372,\n",
       "       -0.70351759, -0.65829146, -0.61306533, -0.5678392 , -0.52261307,\n",
       "       -0.47738693, -0.4321608 , -0.38693467, -0.34170854, -0.29648241,\n",
       "       -0.25125628, -0.20603015, -0.16080402, -0.11557789, -0.07035176,\n",
       "       -0.02512563,  0.0201005 ,  0.06532663,  0.11055276,  0.15577889,\n",
       "        0.20100503,  0.24623116,  0.29145729,  0.33668342,  0.38190955,\n",
       "        0.42713568,  0.47236181,  0.51758794,  0.56281407,  0.6080402 ,\n",
       "        0.65326633,  0.69849246,  0.74371859,  0.78894472,  0.83417085,\n",
       "        0.87939698,  0.92462312,  0.96984925,  1.01507538,  1.06030151,\n",
       "        1.10552764,  1.15075377,  1.1959799 ,  1.24120603,  1.28643216,\n",
       "        1.33165829,  1.37688442,  1.42211055,  1.46733668,  1.51256281,\n",
       "        1.55778894,  1.60301508,  1.64824121,  1.69346734,  1.73869347,\n",
       "        1.7839196 ,  1.82914573,  1.87437186,  1.91959799,  1.96482412,\n",
       "        2.01005025,  2.05527638,  2.10050251,  2.14572864,  2.19095477,\n",
       "        2.2361809 ,  2.28140704,  2.32663317,  2.3718593 ,  2.41708543,\n",
       "        2.46231156,  2.50753769,  2.55276382,  2.59798995,  2.64321608,\n",
       "        2.68844221,  2.73366834,  2.77889447,  2.8241206 ,  2.86934673,\n",
       "        2.91457286,  2.95979899,  3.00502513,  3.05025126,  3.09547739,\n",
       "        3.14070352,  3.18592965,  3.23115578,  3.27638191,  3.32160804,\n",
       "        3.36683417,  3.4120603 ,  3.45728643,  3.50251256,  3.54773869,\n",
       "        3.59296482,  3.63819095,  3.68341709,  3.72864322,  3.77386935,\n",
       "        3.81909548,  3.86432161,  3.90954774,  3.95477387,  4.        ])"
      ]
     },
     "execution_count": 37,
     "metadata": {},
     "output_type": "execute_result"
    }
   ],
   "source": [
    "np.linspace(-5, 4, 20)"
   ]
  },
  {
   "cell_type": "code",
   "execution_count": 42,
   "id": "ce440ca3",
   "metadata": {},
   "outputs": [],
   "source": [
    "valores_igualmente_espacados = np.linspace(-5, 4, 200)"
   ]
  },
  {
   "cell_type": "code",
   "execution_count": 43,
   "id": "77bb8112",
   "metadata": {},
   "outputs": [
    {
     "data": {
      "text/plain": [
       "array([-7.70000000e+01, -7.40456639e+01, -7.11521349e+01, -6.83188579e+01,\n",
       "       -6.55452778e+01, -6.28308398e+01, -6.01749886e+01, -5.75771693e+01,\n",
       "       -5.50368269e+01, -5.25534063e+01, -5.01263525e+01, -4.77551104e+01,\n",
       "       -4.54391250e+01, -4.31778413e+01, -4.09707043e+01, -3.88171588e+01,\n",
       "       -3.67166500e+01, -3.46686227e+01, -3.26725218e+01, -3.07277925e+01,\n",
       "       -2.88338796e+01, -2.69902282e+01, -2.51962830e+01, -2.34514893e+01,\n",
       "       -2.17552918e+01, -2.01071356e+01, -1.85064657e+01, -1.69527269e+01,\n",
       "       -1.54453644e+01, -1.39838229e+01, -1.25675476e+01, -1.11959833e+01,\n",
       "       -9.86857509e+00, -8.58476786e+00, -7.34400659e+00, -6.14573626e+00,\n",
       "       -4.98940182e+00, -3.87444825e+00, -2.80032051e+00, -1.76646356e+00,\n",
       "       -7.72322383e-01,  1.82658070e-01,  1.09903283e+00,  1.97735692e+00,\n",
       "        2.81818539e+00,  3.62207327e+00,  4.38957559e+00,  5.12124738e+00,\n",
       "        5.81764368e+00,  6.47931953e+00,  7.10682995e+00,  7.70072998e+00,\n",
       "        8.26157466e+00,  8.78991902e+00,  9.28631808e+00,  9.75132690e+00,\n",
       "        1.01855005e+01,  1.05893939e+01,  1.09635622e+01,  1.13085603e+01,\n",
       "        1.16249434e+01,  1.19132664e+01,  1.21740844e+01,  1.24079524e+01,\n",
       "        1.26154254e+01,  1.27970586e+01,  1.29534068e+01,  1.30850253e+01,\n",
       "        1.31924689e+01,  1.32762927e+01,  1.33370518e+01,  1.33753012e+01,\n",
       "        1.33915959e+01,  1.33864909e+01,  1.33605414e+01,  1.33143023e+01,\n",
       "        1.32483286e+01,  1.31631754e+01,  1.30593978e+01,  1.29375507e+01,\n",
       "        1.27981892e+01,  1.26418683e+01,  1.24691431e+01,  1.22805686e+01,\n",
       "        1.20766999e+01,  1.18580919e+01,  1.16252997e+01,  1.13788783e+01,\n",
       "        1.11193828e+01,  1.08473682e+01,  1.05633895e+01,  1.02680018e+01,\n",
       "        9.96176014e+00,  9.64521948e+00,  9.31893489e+00,  8.98346141e+00,\n",
       "        8.63935406e+00,  8.28716789e+00,  7.92745793e+00,  7.56077920e+00,\n",
       "        7.18768675e+00,  6.80873560e+00,  6.42448080e+00,  6.03547738e+00,\n",
       "        5.64228036e+00,  5.24544479e+00,  4.84552570e+00,  4.44307812e+00,\n",
       "        4.03865709e+00,  3.63281763e+00,  3.22611479e+00,  2.81910360e+00,\n",
       "        2.41233909e+00,  2.00637629e+00,  1.60177025e+00,  1.19907598e+00,\n",
       "        7.98848539e-01,  4.01642946e-01,  8.01423851e-03, -3.81482550e-01,\n",
       "       -7.66292385e-01, -1.14586023e+00, -1.51963106e+00, -1.88704983e+00,\n",
       "       -2.24756151e+00, -2.60061107e+00, -2.94564347e+00, -3.28210368e+00,\n",
       "       -3.60943667e+00, -3.92708740e+00, -4.23450083e+00, -4.53112194e+00,\n",
       "       -4.81639568e+00, -5.08976703e+00, -5.35068096e+00, -5.59858242e+00,\n",
       "       -5.83291638e+00, -6.05312781e+00, -6.25866168e+00, -6.44896295e+00,\n",
       "       -6.62347659e+00, -6.78164756e+00, -6.92292083e+00, -7.04674137e+00,\n",
       "       -7.15255414e+00, -7.23980411e+00, -7.30793624e+00, -7.35639550e+00,\n",
       "       -7.38462685e+00, -7.39207527e+00, -7.37818572e+00, -7.34240316e+00,\n",
       "       -7.28417256e+00, -7.20293889e+00, -7.09814711e+00, -6.96924219e+00,\n",
       "       -6.81566909e+00, -6.63687278e+00, -6.43229823e+00, -6.20139040e+00,\n",
       "       -5.94359426e+00, -5.65835478e+00, -5.34511691e+00, -5.00332564e+00,\n",
       "       -4.63242591e+00, -4.23186270e+00, -3.80108098e+00, -3.33952571e+00,\n",
       "       -2.84664186e+00, -2.32187439e+00, -1.76466827e+00, -1.17446846e+00,\n",
       "       -5.50719939e-01,  1.07132339e-01,  7.99643403e-01,  1.52736829e+00,\n",
       "        2.29086203e+00,  3.09067966e+00,  3.92737621e+00,  4.80150671e+00,\n",
       "        5.71362621e+00,  6.66428973e+00,  7.65405231e+00,  8.68346899e+00,\n",
       "        9.75309478e+00,  1.08634847e+01,  1.20151939e+01,  1.32087773e+01,\n",
       "        1.44447899e+01,  1.57237869e+01,  1.70463231e+01,  1.84129538e+01,\n",
       "        1.98242338e+01,  2.12807183e+01,  2.27829622e+01,  2.43315206e+01,\n",
       "        2.59269486e+01,  2.75698011e+01,  2.92606332e+01,  3.10000000e+01])"
      ]
     },
     "execution_count": 43,
     "metadata": {},
     "output_type": "execute_result"
    }
   ],
   "source": [
    "f(valores_igualmente_espacados)"
   ]
  },
  {
   "cell_type": "code",
   "execution_count": 44,
   "id": "05c97968",
   "metadata": {},
   "outputs": [
    {
     "data": {
      "text/plain": [
       "[<matplotlib.lines.Line2D at 0x7f5045f65910>]"
      ]
     },
     "execution_count": 44,
     "metadata": {},
     "output_type": "execute_result"
    },
    {
     "data": {
      "image/png": "[encoded data removed]",
      "text/plain": [
       "<Figure size 432x288 with 1 Axes>"
      ]
     },
     "metadata": {
      "needs_background": "light"
     },
     "output_type": "display_data"
    }
   ],
   "source": [
    "plt.plot(valores_igualmente_espacados, f(valores_igualmente_espacados))\n",
    "plt.plot(valores_igualmente_espacados, np.zeros(len(valores_igualmente_espacados)))"
   ]
  },
  {
   "cell_type": "code",
   "execution_count": null,
   "id": "55e19658",
   "metadata": {},
   "outputs": [],
   "source": []
  }
 ],
 "metadata": {
  "kernelspec": {
   "display_name": "Python 3 (ipykernel)",
   "language": "python",
   "name": "python3"
  },
  "language_info": {
   "codemirror_mode": {
    "name": "ipython",
    "version": 3
   },
   "file_extension": ".py",
   "mimetype": "text/x-python",
   "name": "python",
   "nbconvert_exporter": "python",
   "pygments_lexer": "ipython3",
   "version": "3.8.10"
  }
 },
 "nbformat": 4,
 "nbformat_minor": 5
}
